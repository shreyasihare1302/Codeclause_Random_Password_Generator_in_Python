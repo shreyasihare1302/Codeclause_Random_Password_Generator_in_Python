{
 "cells": [
  {
   "cell_type": "markdown",
   "id": "a6377443",
   "metadata": {},
   "source": [
    "# Random Password Generator in Python"
   ]
  },
  {
   "cell_type": "code",
   "execution_count": 17,
   "id": "ccd82bde",
   "metadata": {},
   "outputs": [],
   "source": [
    "# importing the random module\n",
    "import random"
   ]
  },
  {
   "cell_type": "code",
   "execution_count": 18,
   "id": "af644a40",
   "metadata": {},
   "outputs": [
    {
     "name": "stdout",
     "output_type": "stream",
     "text": [
      "wXXYQmZK\n"
     ]
    }
   ],
   "source": [
    "# a function that will generate a password on length (n) and return it.\n",
    "def generatePassword(n):\n",
    "    # defining the list of choices of characters.\n",
    "    characters = \"abcdefghijklmnopqrstuvwxyzABCDEFGHIJKLMNOPQRSTUVWXYZ123456789!@#$%^&*()\"\n",
    "\n",
    "    # initializing an empty string to store the password.\n",
    "    password = \"\"\n",
    "\n",
    "    for i in range(n):\n",
    "        # randomly selecting one character and appending it to the resultant password string\n",
    "        password += random.choice(characters)\n",
    "\n",
    "    # finally returning the randomly generated password.\n",
    "    return password\n",
    "\n",
    "\n",
    "if __name__ == \"__main__\":\n",
    "    n = 8\n",
    "    password = generatePassword(n)\n",
    "    print(password)"
   ]
  },
  {
   "cell_type": "code",
   "execution_count": null,
   "id": "33cc11d0",
   "metadata": {},
   "outputs": [],
   "source": []
  }
 ],
 "metadata": {
  "kernelspec": {
   "display_name": "Python 3 (ipykernel)",
   "language": "python",
   "name": "python3"
  },
  "language_info": {
   "codemirror_mode": {
    "name": "ipython",
    "version": 3
   },
   "file_extension": ".py",
   "mimetype": "text/x-python",
   "name": "python",
   "nbconvert_exporter": "python",
   "pygments_lexer": "ipython3",
   "version": "3.10.9"
  }
 },
 "nbformat": 4,
 "nbformat_minor": 5
}
